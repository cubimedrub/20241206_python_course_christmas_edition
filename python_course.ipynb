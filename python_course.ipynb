{
 "cells": [
  {
   "cell_type": "markdown",
   "metadata": {},
   "source": [
    "# Exercise 1\n",
    "\n",
    "Use your newly acquired Python knowledge to make your live a bit easier. Develop a small script which helps you calculate the mass (m)for a batch of 1 litre 50 mM Ammonium hydrogen carbonate. Print the mass at the end.\n",
    "\n",
    "Molar mass (M): 79,056 g/mol   \n",
    "Concentration (c): 0.05 mol/l   \n",
    "Volume (V): 1 l   \n",
    "\n",
    "For this you need the formula\n",
    "```\n",
    "c = n / V\n",
    "n = m / M\n",
    "n = c * V\n",
    "m = n * M\n",
    "```"
   ]
  },
  {
   "cell_type": "code",
   "execution_count": 1,
   "metadata": {},
   "outputs": [],
   "source": [
    "## Your code goes here"
   ]
  },
  {
   "cell_type": "markdown",
   "metadata": {},
   "source": [
    "# Exercise 2\n",
    "\n",
    "Make your calculation reusable and more generic by wrapping it up in a function which returns the calculated mass.   \n",
    "The argument list should be volume, concentration, molar mass.   \n",
    "Validate if your function works correctly with the data from exercise 1.\n"
   ]
  },
  {
   "cell_type": "code",
   "execution_count": 2,
   "metadata": {},
   "outputs": [],
   "source": [
    "## Your code goes here"
   ]
  },
  {
   "cell_type": "markdown",
   "metadata": {},
   "source": [
    "# Exercise 3\n",
    "\n",
    "Your PI wants you to find the nearest mass to charge (m/z) value to a given target, thousands of times, of a peak picked spectrum. \n",
    "\n",
    "But you don't know how to do that! Luckily, Santa's little helper left you a hint - a little code snippet next to a keyboard full of cookie crumbles.\n",
    "\n",
    "But what now? You only know you have to find the nearest peak to 638.5 m/z.\n",
    "\n",
    "\n",
    "The mass is located in the file `mass_spec.json`.\n"
   ]
  },
  {
   "cell_type": "markdown",
   "metadata": {},
   "source": [
    "### Exercise 3.1\n",
    "\n",
    "Interpret the code below - what is happening here? Why did we need to import the library `json`? What information is held in the variable `mass_spec`? "
   ]
  },
  {
   "cell_type": "code",
   "execution_count": 3,
   "metadata": {},
   "outputs": [],
   "source": [
    "## DO NOT CHANGE\n",
    "import json \n",
    "\n",
    "with open(\"mass_spec.json\") as json_file:\n",
    "    mass_spec = json.load(json_file)"
   ]
  },
  {
   "cell_type": "markdown",
   "metadata": {},
   "source": [
    "### Exercise 3.2 \n",
    "\n",
    "Please describe step by step how you'd find the nearest mass to charge value to a given target, how to calculate the distance between the value and the target, the position of the match within the m/z array and the corresponding intensity. "
   ]
  },
  {
   "cell_type": "markdown",
   "metadata": {},
   "source": [
    "Your step by step solution goes here\n",
    "\n",
    "1. step 1 ...\n",
    "2. step 2 ...\n",
    "...\n"
   ]
  },
  {
   "cell_type": "markdown",
   "metadata": {},
   "source": [
    "### Exercise 3.3\n",
    "\n",
    "With some more chocolate you now feel confident to solve your PI's issue!\n",
    "\n",
    "Please code your solution from Exercise 3.2! Write a function that accepts a mass spectrum and a targeted value to search for. Let the function return the nearest m/z value, the corresponding intensity, and the index within the list. \n",
    "\n",
    "Now all you have to do is to write a function which accepts a mass spectrum and a targeted value to search for. The function should return a tuple with the nearest m/z value, the corresponding intensity, the index within the list difference to the searched value.    \n",
    "\n",
    "Under another cookie, you find the hint: \"Pssst, you might want to checkout the functions `enumerate()` & `abs()`\""
   ]
  },
  {
   "cell_type": "code",
   "execution_count": 4,
   "metadata": {},
   "outputs": [],
   "source": [
    "## Your code goes here"
   ]
  },
  {
   "cell_type": "markdown",
   "metadata": {},
   "source": [
    "## Exercise 4 : Data Analysis\n",
    "\n",
    "Let's delve into data analysis in python with pandas. You recieved a data set from your collaboration partners that work with hepatocellular carcinoma (HCC) and measured the proteomics of 19 healthy patients (C) and 19 patients that have HCC.\n",
    "\n",
    "Load the dataset into pandas. What format is the file? \n"
   ]
  },
  {
   "cell_type": "code",
   "execution_count": 5,
   "metadata": {},
   "outputs": [],
   "source": [
    "## Your code goes here"
   ]
  },
  {
   "cell_type": "markdown",
   "metadata": {},
   "source": [
    " ### a) Take a look at the data\n",
    " \n",
    "Get familiar with the dataset. What are the columns, what are the rows? What type are the values? Are there missing values?"
   ]
  },
  {
   "cell_type": "code",
   "execution_count": 6,
   "metadata": {},
   "outputs": [],
   "source": [
    "## Your code goes here"
   ]
  },
  {
   "cell_type": "markdown",
   "metadata": {},
   "source": [
    " ### b) Drop rows with more than 20% missing \n",
    " \n",
    "We want to keep Proteins that 80% of the patients have to erase a bias by too many missing values, since we don't know why they are missing. Notice here that it is important to know if your values are missing at completely at random due to machine errors or non-detectability, or if the patient did not produce that protein. For simplictiy, we just apply that threshold of 20%. "
   ]
  },
  {
   "cell_type": "code",
   "execution_count": 7,
   "metadata": {},
   "outputs": [],
   "source": [
    "## Your code goes here"
   ]
  },
  {
   "cell_type": "markdown",
   "metadata": {},
   "source": [
    " ### c) Impute the rest of the missing values\n",
    " \n",
    "We want to impute the missing values for further analysis, like machine learning. Those algorithms cannot deal with missing data. There are some advanced imputation methods, especially if the cause of the missing is known, like multiple imputation by chained equations (MICE), k-nearest-neighbors (KNN), random forest imputation methods. Sometimes, using the mean or median can be absolutely sufficient. Impute the last missing values with the median!"
   ]
  },
  {
   "cell_type": "code",
   "execution_count": 8,
   "metadata": {},
   "outputs": [],
   "source": [
    "## Your code goes here"
   ]
  },
  {
   "cell_type": "markdown",
   "metadata": {},
   "source": [
    "\n",
    "### d) Correlation\n",
    "\n",
    "Sometimes, correlation can mess with further analysis (machine learning) or can simply help us understand interactions with our data or gives us hints for possible biomarkers. Look at the correlation within our dataset! Look at the differences between the different correlation methods. "
   ]
  },
  {
   "cell_type": "code",
   "execution_count": 9,
   "metadata": {},
   "outputs": [],
   "source": [
    "## Your code goes here"
   ]
  },
  {
   "cell_type": "markdown",
   "metadata": {},
   "source": [
    "### e) Pandas Plots\n",
    "\n",
    "Check out the other different built in visualization methods pandas has to offer! \n",
    "Choose one protein and create a plot sorted by group (Control and Cancer):\n",
    "1) histogram \n",
    "2) boxplot\n",
    "3) pie plot\n",
    "\n",
    "Hint: use df.hist() for the histogram and df.plot.box() and df.plot.pie() for the other two. There are slight differences between the plot and not plot methods!\n",
    "\n",
    "Advanced: do the same for multiple or all proteins!\n"
   ]
  },
  {
   "cell_type": "markdown",
   "metadata": {},
   "source": [
    "1. Histogram\n",
    "\n",
    "Hint: you will need a special argument for the function call to group"
   ]
  },
  {
   "cell_type": "code",
   "execution_count": 10,
   "metadata": {},
   "outputs": [],
   "source": [
    "## Your code goes here"
   ]
  },
  {
   "cell_type": "markdown",
   "metadata": {},
   "source": [
    "2. Boxplot\n",
    "\n",
    "Hint: you will need a special argument for the function call to group"
   ]
  },
  {
   "cell_type": "code",
   "execution_count": 11,
   "metadata": {},
   "outputs": [],
   "source": [
    "## Your code goes here"
   ]
  },
  {
   "cell_type": "markdown",
   "metadata": {},
   "source": [
    "3. Pie Plot\n",
    "\n",
    "Hint: You will need to group manually first, sum up all intensities of the chosen protein per group and then plot it into the pandas pie plot\n"
   ]
  },
  {
   "cell_type": "code",
   "execution_count": 12,
   "metadata": {},
   "outputs": [],
   "source": [
    "## Your code goes here"
   ]
  },
  {
   "cell_type": "markdown",
   "metadata": {},
   "source": [
    "### f) Plotly Plots\n",
    "\n",
    "Create he same plots that you've created with pandas in plotly!\n",
    "\n",
    "1. Correlation\n",
    "2. Histogram\n",
    "3. Boxplot\n",
    "4. Pie Plot"
   ]
  },
  {
   "cell_type": "code",
   "execution_count": 13,
   "metadata": {},
   "outputs": [],
   "source": [
    "## Your code goes here"
   ]
  },
  {
   "cell_type": "markdown",
   "metadata": {},
   "source": [
    "1. Correlation\n",
    "\n",
    "Hint: You will need the correlation matrix from step d)"
   ]
  },
  {
   "cell_type": "code",
   "execution_count": 14,
   "metadata": {},
   "outputs": [],
   "source": [
    "## Your code goes here"
   ]
  },
  {
   "cell_type": "markdown",
   "metadata": {},
   "source": [
    "2. Histogram\n",
    "\n",
    "Hint: you will need to pass an argument for the function call for grouping"
   ]
  },
  {
   "cell_type": "code",
   "execution_count": 15,
   "metadata": {},
   "outputs": [],
   "source": [
    "## Your code goes here"
   ]
  },
  {
   "cell_type": "markdown",
   "metadata": {},
   "source": [
    "3. Boxplot\n",
    "\n",
    "Hint: you will need to pass an argument for the function call for grouping"
   ]
  },
  {
   "cell_type": "code",
   "execution_count": 16,
   "metadata": {},
   "outputs": [],
   "source": [
    "## Your code goes here"
   ]
  },
  {
   "cell_type": "markdown",
   "metadata": {},
   "source": [
    "4. Pie Plot\n",
    "\n",
    "Hint: you will need to pass an argument for the function call for grouping"
   ]
  },
  {
   "cell_type": "code",
   "execution_count": 17,
   "metadata": {},
   "outputs": [],
   "source": [
    "## Your code goes here"
   ]
  },
  {
   "cell_type": "markdown",
   "metadata": {},
   "source": [
    "### g) Sweetviz\n",
    "\n",
    "Sweetviz is one of a few libraries allowing for a broad inspection of the data without having to visualize anything manually. Try to use it on the original dataframe, whilst comparing the two groups!\n"
   ]
  },
  {
   "cell_type": "code",
   "execution_count": 18,
   "metadata": {},
   "outputs": [],
   "source": [
    "## Your code goes here"
   ]
  },
  {
   "cell_type": "markdown",
   "metadata": {},
   "source": [
    "# The Christmas exercise\n",
    "\n",
    "Santa's little helper forgot the correct imports. Can your help them by uncommenting the code below and find it for them?"
   ]
  },
  {
   "cell_type": "code",
   "execution_count": 19,
   "metadata": {},
   "outputs": [],
   "source": [
    "# import <we forgot to import something>\n",
    "# import <and this too!>\n",
    "\n",
    "# theta = np.linspace(-8 * np.pi, 8 * np.pi, 200) \n",
    "# z = np.linspace(-3, 0, 200)\n",
    "# r = 5\n",
    "# x = r * np.sin(theta)*z\n",
    "# y = r * np.cos(theta)*z\n",
    "\n",
    "# fig = go.Figure(data=[go.Mesh3d(\n",
    "#     x=x,\n",
    "#     y=y,\n",
    "#     z=z,\n",
    "#     color=\"green\"\n",
    "# )])\n",
    "\n",
    "# fig.update_layout(\n",
    "#     title=[77, 97, 114, 114, 121, 32, 67, 104, 114, 105, 115, 116, 109, 97, 115, 33].decode(\"utf-8\"),\n",
    "# )\n",
    "\n",
    "\n",
    "# fig.show()\n"
   ]
  }
 ],
 "metadata": {
  "kernelspec": {
   "display_name": "Python 3",
   "language": "python",
   "name": "python3"
  },
  "language_info": {
   "codemirror_mode": {
    "name": "ipython",
    "version": 3
   },
   "file_extension": ".py",
   "mimetype": "text/x-python",
   "name": "python",
   "nbconvert_exporter": "python",
   "pygments_lexer": "ipython3",
   "version": "3.11.10"
  },
  "orig_nbformat": 4
 },
 "nbformat": 4,
 "nbformat_minor": 2
}
